{
 "cells": [
  {
   "cell_type": "markdown",
   "metadata": {},
   "source": [
    "# HW 5 \n",
    "## 5.1 NumPy arrays"
   ]
  },
  {
   "cell_type": "markdown",
   "metadata": {},
   "source": [
    "(a) NumPy arrays operate on corresponding elements. Arrays are not treated as matrices."
   ]
  },
  {
   "cell_type": "code",
   "execution_count": 200,
   "metadata": {},
   "outputs": [
    {
     "name": "stdout",
     "output_type": "stream",
     "text": [
      "[[ 0.+0.j  0.+0.j]\n",
      " [ 0.+0.j -0.+0.j]]\n"
     ]
    }
   ],
   "source": [
    "import numpy as np\n",
    "\n",
    "sx = np.array([[0, 1], [1, 0]])\n",
    "sy = np.array([[0, -1j],[1j, 0]])\n",
    "sz = np.array([[1, 0], [0, -1]])\n",
    "\n",
    "result1b1 = sx * sy * sz\n",
    "print(result1b1)"
   ]
  },
  {
   "cell_type": "markdown",
   "metadata": {},
   "source": [
    "NumPy multiplication operates on corresponding elements."
   ]
  },
  {
   "cell_type": "code",
   "execution_count": 201,
   "metadata": {},
   "outputs": [
    {
     "name": "stdout",
     "output_type": "stream",
     "text": [
      "[[0.+1.j 0.+0.j]\n",
      " [0.+0.j 0.+1.j]]\n"
     ]
    }
   ],
   "source": [
    "result1b2 = np.dot(np.dot(sx,sy),sz)\n",
    "print(result1b2)"
   ]
  },
  {
   "cell_type": "markdown",
   "metadata": {},
   "source": [
    "np.dot() treats arrays as matrices and performs matrix multiplication. "
   ]
  },
  {
   "cell_type": "code",
   "execution_count": 202,
   "metadata": {},
   "outputs": [
    {
     "name": "stdout",
     "output_type": "stream",
     "text": [
      "I deserve an A\n"
     ]
    }
   ],
   "source": [
    "result1b3 = np.dot(sx,sy) - np.dot(sy,sx)\n",
    "sz2j = sz * 2j\n",
    "\n",
    "if result1b3.all() == sz2j.all():\n",
    "    print('I deserve an A')"
   ]
  },
  {
   "cell_type": "code",
   "execution_count": 203,
   "metadata": {},
   "outputs": [
    {
     "name": "stdout",
     "output_type": "stream",
     "text": [
      "[ 0.70710678-0.j         -0.        +0.70710678j]\n"
     ]
    }
   ],
   "source": [
    "v = np.array([1/np.sqrt(2), (-1j)/np.sqrt(2)])\n",
    "result1b4 = v.conjugate()\n",
    "print(result1b4)"
   ]
  },
  {
   "cell_type": "markdown",
   "metadata": {},
   "source": [
    "## 5.2 Coordinate manipulation with NumPy"
   ]
  },
  {
   "cell_type": "code",
   "execution_count": 243,
   "metadata": {},
   "outputs": [
    {
     "name": "stdout",
     "output_type": "stream",
     "text": [
      "shape is (4, 3)\n",
      "dimension is 2\n"
     ]
    }
   ],
   "source": [
    "import numpy as np\n",
    "positions = np.array(\\\n",
    "      [[0.0, 0.0, 0.0], [1.34234, 1.34234, 0.0], \\\n",
    "       [1.34234, 0.0,  1.34234], [0.0, 1.34234, 1.34234]])\n",
    "t = np.array([1.34234, -1.34234, -1.34234])\n",
    "\n",
    "print('shape is', positions.shape)\n",
    "print('dimension is', positions.ndim)"
   ]
  },
  {
   "cell_type": "code",
   "execution_count": 232,
   "metadata": {},
   "outputs": [
    {
     "name": "stdout",
     "output_type": "stream",
     "text": [
      "shape is (3,)\n",
      "dimension is 1\n"
     ]
    }
   ],
   "source": [
    "print('shape is', t.shape)\n",
    "print('dimension is', t.ndim)"
   ]
  },
  {
   "cell_type": "code",
   "execution_count": 233,
   "metadata": {},
   "outputs": [
    {
     "name": "stdout",
     "output_type": "stream",
     "text": [
      "[[0.      0.      0.     ]\n",
      " [1.34234 1.34234 0.     ]\n",
      " [1.34234 0.      1.34234]\n",
      " [0.      1.34234 1.34234]]\n",
      "[1.34234 1.34234 0.     ]\n"
     ]
    }
   ],
   "source": [
    "print(positions)\n",
    "result2c = positions[1]\n",
    "\n",
    "print(result2c)"
   ]
  },
  {
   "cell_type": "code",
   "execution_count": 234,
   "metadata": {},
   "outputs": [
    {
     "name": "stdout",
     "output_type": "stream",
     "text": [
      "<class 'numpy.float64'>\n",
      "shape is ()\n",
      "dimension is 0\n"
     ]
    }
   ],
   "source": [
    "result2d = positions[1][1]\n",
    "print(type(result2d))\n",
    "print('shape is', result2d.shape)\n",
    "print('dimension is', result2d.ndim)"
   ]
  },
  {
   "cell_type": "code",
   "execution_count": 235,
   "metadata": {},
   "outputs": [
    {
     "name": "stdout",
     "output_type": "stream",
     "text": [
      "[[ 1.34234 -1.34234 -1.34234]\n",
      " [ 2.68468  0.      -1.34234]\n",
      " [ 2.68468 -1.34234  0.     ]\n",
      " [ 1.34234  0.       0.     ]]\n"
     ]
    }
   ],
   "source": [
    "problem2e = positions[:]\n",
    "for i in problem2e:\n",
    "     i += t\n",
    "result2e = problem2e[:]\n",
    "    \n",
    "print(result2e)"
   ]
  },
  {
   "cell_type": "code",
   "execution_count": 244,
   "metadata": {},
   "outputs": [
    {
     "name": "stdout",
     "output_type": "stream",
     "text": [
      "[[ 1.34234 -1.34234 -1.34234]\n",
      " [ 2.68468  0.      -1.34234]\n",
      " [ 2.68468 -1.34234  0.     ]\n",
      " [ 1.34234  0.       0.     ]]\n",
      "[[ 0.  0.  6.]\n",
      " [-3.  0.  0.]]\n"
     ]
    }
   ],
   "source": [
    "def translate(coordinates, t):\n",
    "    for i in coordinates:\n",
    "        i += t\n",
    "    return coordinates\n",
    "\n",
    "translate(positions, t)\n",
    "\n",
    "print(positions)\n",
    "positions2 = np.array([[1.5, -1.5, 3], [-1.5, -1.5, -3]])\n",
    "t = np.array([-1.5, 1.5, 3])\n",
    "\n",
    "translate(positions2, t)\n",
    "print(positions2)"
   ]
  },
  {
   "cell_type": "markdown",
   "metadata": {},
   "source": [
    "## 5.3 NumPy functions"
   ]
  },
  {
   "cell_type": "code",
   "execution_count": 166,
   "metadata": {},
   "outputs": [
    {
     "data": {
      "image/png": "[encoded data removed]",
      "text/plain": [
       "<Figure size 432x288 with 1 Axes>"
      ]
     },
     "metadata": {
      "needs_background": "light"
     },
     "output_type": "display_data"
    }
   ],
   "source": [
    "import matplotlib.pyplot as plt\n",
    "import numpy as np\n",
    "\n",
    "X = np.arange(-6,6,0.2)\n",
    "Y = np.sinc(X)\n",
    "plt.plot(X, Y)\n",
    "plt.xlabel(\"x\")\n",
    "plt.ylabel(\"y = sinc(x)\") \n",
    "plt.savefig(\"sinc.png\")"
   ]
  },
  {
   "cell_type": "code",
   "execution_count": 215,
   "metadata": {},
   "outputs": [],
   "source": [
    "import numpy as np\n",
    "\n",
    "x = np.arange(1,101)\n",
    "y = 6/(x**2)\n",
    "mypi = np.sqrt(np.sum(y))"
   ]
  },
  {
   "cell_type": "code",
   "execution_count": null,
   "metadata": {},
   "outputs": [],
   "source": []
  }
 ],
 "metadata": {
  "kernelspec": {
   "display_name": "Python 3",
   "language": "python",
   "name": "python3"
  },
  "language_info": {
   "codemirror_mode": {
    "name": "ipython",
    "version": 3
   },
   "file_extension": ".py",
   "mimetype": "text/x-python",
   "name": "python",
   "nbconvert_exporter": "python",
   "pygments_lexer": "ipython3",
   "version": "3.6.8"
  }
 },
 "nbformat": 4,
 "nbformat_minor": 2
}
