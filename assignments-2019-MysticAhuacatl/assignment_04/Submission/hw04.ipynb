{
 "cells": [
  {
   "cell_type": "markdown",
   "metadata": {},
   "source": [
    "# PHY494 - HW04\n",
    "Martin Flores\n"
   ]
  },
  {
   "cell_type": "markdown",
   "metadata": {},
   "source": [
    "4.1 Counting Vowels"
   ]
  },
  {
   "cell_type": "code",
   "execution_count": 42,
   "metadata": {},
   "outputs": [
    {
     "name": "stdout",
     "output_type": "stream",
     "text": [
      "[19, 19, 8, 17, 8, 5]\n"
     ]
    }
   ],
   "source": [
    "s = \"\"\"'But I don't want to go among mad people,' Alice remarked.\n",
    "'Oh, you can't help that,' said the Cat, 'we're all mad here. I'm\n",
    "mad. You're mad.' 'How do you know I'm mad?' said Alice. 'You\n",
    "must be,' said the Cat, 'or you wouldn't have come here.'\"\"\"\n",
    "\n",
    "counts = [0,0,0,0,0,0]\n",
    "\n",
    "def count_vowels(words):\n",
    "    words = words.lower()\n",
    "    for letter in words:\n",
    "        if letter=='a':\n",
    "            counts[0] += 1\n",
    "        if letter=='e':\n",
    "            counts[1] += 1\n",
    "        if letter=='i':\n",
    "            counts[2] += 1\n",
    "        if letter=='o':\n",
    "            counts[3] += 1\n",
    "        if letter=='u':\n",
    "            counts[4] += 1\n",
    "        if letter=='y':\n",
    "            counts[5] += 1\n",
    "            \n",
    "count_vowels(s)\n",
    "        \n",
    "print(counts)"
   ]
  },
  {
   "cell_type": "markdown",
   "metadata": {},
   "source": [
    "4.2 Factorial Fun"
   ]
  },
  {
   "cell_type": "code",
   "execution_count": null,
   "metadata": {},
   "outputs": [],
   "source": []
  },
  {
   "cell_type": "code",
   "execution_count": 32,
   "metadata": {},
   "outputs": [
    {
     "name": "stdout",
     "output_type": "stream",
     "text": [
      "1\n",
      "1\n",
      "2\n",
      "6\n",
      "24\n",
      "120\n",
      "720\n",
      "5040\n",
      "40320\n",
      "362880\n",
      "3628800\n",
      "39916800\n",
      "479001600\n",
      "6227020800\n",
      "87178291200\n",
      "1307674368000\n",
      "20922789888000\n",
      "355687428096000\n",
      "6402373705728000\n",
      "121645100408832000\n",
      "2432902008176640000\n"
     ]
    }
   ],
   "source": [
    "import math\n",
    "\n",
    "def factorial_math(n):\n",
    "    if n == 0:\n",
    "        print(1)\n",
    "    if n > 0:\n",
    "        print(math.factorial(n))\n",
    "        \n",
    "for x in range(21):\n",
    "    factorial_math(x)"
   ]
  },
  {
   "cell_type": "code",
   "execution_count": 33,
   "metadata": {},
   "outputs": [
    {
     "name": "stdout",
     "output_type": "stream",
     "text": [
      "1\n",
      "1\n",
      "2\n",
      "6\n",
      "24\n",
      "120\n",
      "720\n",
      "5040\n",
      "40320\n",
      "362880\n",
      "3628800\n",
      "39916800\n",
      "479001600\n",
      "6227020800\n",
      "87178291200\n",
      "1307674368000\n",
      "20922789888000\n",
      "355687428096000\n",
      "6402373705728000\n",
      "121645100408832000\n",
      "2432902008176640000\n"
     ]
    }
   ],
   "source": [
    "def factorial(n):\n",
    "    result = 1\n",
    "    if n == 0:\n",
    "        print(result)\n",
    "    if n > 0:\n",
    "        for i in range(1, n + 1):\n",
    "            result = result * i\n",
    "        print(result)\n",
    "            \n",
    "for x in range(21):\n",
    "    factorial(x)"
   ]
  },
  {
   "cell_type": "code",
   "execution_count": 41,
   "metadata": {},
   "outputs": [
    {
     "name": "stdout",
     "output_type": "stream",
     "text": [
      "1\n",
      "1\n",
      "2\n",
      "3\n",
      "8\n",
      "15\n",
      "48\n",
      "105\n",
      "384\n",
      "945\n",
      "3840\n",
      "10395\n",
      "46080\n",
      "135135\n",
      "645120\n",
      "2027025\n",
      "10321920\n",
      "34459425\n",
      "185794560\n",
      "654729075\n",
      "3715891200\n"
     ]
    }
   ],
   "source": [
    "def double_factorial(n):\n",
    "    result = 1\n",
    "    if n == 0:\n",
    "            print(result)\n",
    "    if n > 0:\n",
    "        if (n % 2) == 0:\n",
    "            for i in range(2, n + 1, 2):\n",
    "                result = result * i\n",
    "            print(result)\n",
    "        else: \n",
    "            for i in range(1, n + 1, 2):\n",
    "                result = result * i\n",
    "            print(result)\n",
    "            \n",
    "for x in range(21):\n",
    "    double_factorial(x)"
   ]
  },
  {
   "cell_type": "code",
   "execution_count": null,
   "metadata": {},
   "outputs": [],
   "source": []
  },
  {
   "cell_type": "code",
   "execution_count": null,
   "metadata": {},
   "outputs": [],
   "source": []
  },
  {
   "cell_type": "code",
   "execution_count": null,
   "metadata": {},
   "outputs": [],
   "source": []
  },
  {
   "cell_type": "code",
   "execution_count": null,
   "metadata": {},
   "outputs": [],
   "source": []
  },
  {
   "cell_type": "code",
   "execution_count": null,
   "metadata": {},
   "outputs": [],
   "source": []
  },
  {
   "cell_type": "code",
   "execution_count": null,
   "metadata": {},
   "outputs": [],
   "source": []
  },
  {
   "cell_type": "code",
   "execution_count": null,
   "metadata": {},
   "outputs": [],
   "source": []
  },
  {
   "cell_type": "code",
   "execution_count": null,
   "metadata": {},
   "outputs": [],
   "source": []
  }
 ],
 "metadata": {
  "kernelspec": {
   "display_name": "VPython",
   "language": "python",
   "name": "vpython"
  },
  "language_info": {
   "codemirror_mode": {
    "name": "ipython",
    "version": 3
   },
   "file_extension": ".py",
   "mimetype": "text/x-python",
   "name": "python",
   "nbconvert_exporter": "python",
   "pygments_lexer": "ipython3",
   "version": "3.6.8"
  }
 },
 "nbformat": 4,
 "nbformat_minor": 2
}
